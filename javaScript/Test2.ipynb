{
 "cells": [
  {
   "cell_type": "code",
   "execution_count": 1,
   "id": "a9cd5d5a-5136-4cfc-bb06-64e04cf0c6e3",
   "metadata": {},
   "outputs": [
    {
     "ename": "SyntaxError",
     "evalue": "invalid syntax (303317698.py, line 3)",
     "output_type": "error",
     "traceback": [
      "\u001b[0;36m  File \u001b[0;32m\"/var/folders/z0/1yc1p2bd743b_q9bksvm0cr00000gn/T/ipykernel_21304/303317698.py\"\u001b[0;36m, line \u001b[0;32m3\u001b[0m\n\u001b[0;31m    let x = 1;\u001b[0m\n\u001b[0m        ^\u001b[0m\n\u001b[0;31mSyntaxError\u001b[0m\u001b[0;31m:\u001b[0m invalid syntax\n"
     ]
    }
   ],
   "source": [
    "%javascript\n",
    "\n",
    "let x = 1;\n",
    "let y = 2;\n",
    "let z = x + y;\n",
    "\n",
    "console.log(\"hello\")\n"
   ]
  },
  {
   "cell_type": "code",
   "execution_count": 4,
   "id": "9f78dff5-852c-4ddf-b8ba-4a690154c8ac",
   "metadata": {},
   "outputs": [
    {
     "name": "stderr",
     "output_type": "stream",
     "text": [
      "UsageError: Line magic function `%typescript` not found.\n"
     ]
    }
   ],
   "source": [
    "%typescript\n",
    "\n",
    "display(\"<h1>Hello World</h1>\");"
   ]
  },
  {
   "cell_type": "code",
   "execution_count": 5,
   "id": "be1be822-f099-42d9-bce5-25566db1480d",
   "metadata": {},
   "outputs": [
    {
     "ename": "SyntaxError",
     "evalue": "invalid syntax (728349862.py, line 1)",
     "output_type": "error",
     "traceback": [
      "\u001b[0;36m  File \u001b[0;32m\"/var/folders/z0/1yc1p2bd743b_q9bksvm0cr00000gn/T/ipykernel_21304/728349862.py\"\u001b[0;36m, line \u001b[0;32m1\u001b[0m\n\u001b[0;31m    jupyter kernelspec list\u001b[0m\n\u001b[0m            ^\u001b[0m\n\u001b[0;31mSyntaxError\u001b[0m\u001b[0;31m:\u001b[0m invalid syntax\n"
     ]
    }
   ],
   "source": [
    "jupyter kernelspec list"
   ]
  },
  {
   "cell_type": "code",
   "execution_count": null,
   "id": "fba704a0-a331-4a0f-93b7-0683b76abca1",
   "metadata": {},
   "outputs": [],
   "source": []
  }
 ],
 "metadata": {
  "kernelspec": {
   "display_name": "Python 3 (ipykernel)",
   "language": "python",
   "name": "python3"
  },
  "language_info": {
   "codemirror_mode": {
    "name": "ipython",
    "version": 3
   },
   "file_extension": ".py",
   "mimetype": "text/x-python",
   "name": "python",
   "nbconvert_exporter": "python",
   "pygments_lexer": "ipython3",
   "version": "3.9.7"
  }
 },
 "nbformat": 4,
 "nbformat_minor": 5
}
